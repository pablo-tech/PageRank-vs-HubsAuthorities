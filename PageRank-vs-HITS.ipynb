{
  "nbformat": 4,
  "nbformat_minor": 0,
  "metadata": {
    "colab": {
      "name": "CS246 - hw3 PageRank.ipynb",
      "provenance": [],
      "collapsed_sections": [],
      "toc_visible": true
    },
    "kernelspec": {
      "name": "python3",
      "display_name": "Python 3"
    }
  },
  "cells": [
    {
      "cell_type": "markdown",
      "metadata": {
        "id": "kPt5q27L5557",
        "colab_type": "text"
      },
      "source": [
        "# Implementing PageRank \n"
      ]
    },
    {
      "cell_type": "markdown",
      "metadata": {
        "id": "p0-YhEpP_Ds-",
        "colab_type": "text"
      },
      "source": [
        "### Setup"
      ]
    },
    {
      "cell_type": "markdown",
      "metadata": {
        "id": "Zsj5WYpR9QId",
        "colab_type": "text"
      },
      "source": [
        "Let's setup Spark on your Colab environment.  Run the cell below!"
      ]
    },
    {
      "cell_type": "code",
      "metadata": {
        "id": "k-qHai2252mI",
        "colab_type": "code",
        "outputId": "36b15252-e164-4704-cb63-b3b39ca5fcf0",
        "colab": {
          "base_uri": "https://localhost:8080/",
          "height": 343
        }
      },
      "source": [
        "!pip install pyspark\n",
        "!pip install -U -q PyDrive\n",
        "!apt install openjdk-8-jdk-headless -qq\n",
        "import os\n",
        "os.environ[\"JAVA_HOME\"] = \"/usr/lib/jvm/java-8-openjdk-amd64\""
      ],
      "execution_count": 1,
      "outputs": [
        {
          "output_type": "stream",
          "text": [
            "Collecting pyspark\n",
            "\u001b[?25l  Downloading https://files.pythonhosted.org/packages/9a/5a/271c416c1c2185b6cb0151b29a91fff6fcaed80173c8584ff6d20e46b465/pyspark-2.4.5.tar.gz (217.8MB)\n",
            "\u001b[K     |████████████████████████████████| 217.8MB 60kB/s \n",
            "\u001b[?25hCollecting py4j==0.10.7\n",
            "\u001b[?25l  Downloading https://files.pythonhosted.org/packages/e3/53/c737818eb9a7dc32a7cd4f1396e787bd94200c3997c72c1dbe028587bd76/py4j-0.10.7-py2.py3-none-any.whl (197kB)\n",
            "\u001b[K     |████████████████████████████████| 204kB 41.5MB/s \n",
            "\u001b[?25hBuilding wheels for collected packages: pyspark\n",
            "  Building wheel for pyspark (setup.py) ... \u001b[?25l\u001b[?25hdone\n",
            "  Created wheel for pyspark: filename=pyspark-2.4.5-py2.py3-none-any.whl size=218257927 sha256=18d83c73056ff7e4ebd86072b8030a552398d175a8210bd3740b609724af4574\n",
            "  Stored in directory: /root/.cache/pip/wheels/bf/db/04/61d66a5939364e756eb1c1be4ec5bdce6e04047fc7929a3c3c\n",
            "Successfully built pyspark\n",
            "Installing collected packages: py4j, pyspark\n",
            "Successfully installed py4j-0.10.7 pyspark-2.4.5\n",
            "openjdk-8-jdk-headless is already the newest version (8u242-b08-0ubuntu3~18.04).\n",
            "The following package was automatically installed and is no longer required:\n",
            "  libnvidia-common-430\n",
            "Use 'apt autoremove' to remove it.\n",
            "0 upgraded, 0 newly installed, 0 to remove and 25 not upgraded.\n"
          ],
          "name": "stdout"
        }
      ]
    },
    {
      "cell_type": "markdown",
      "metadata": {
        "id": "PUUjUvXe3Sjk",
        "colab_type": "text"
      },
      "source": [
        "Now we authenticate a Google Drive client to download the filea we will be processing in our Spark job.\n",
        "\n",
        "**Make sure to follow the interactive instructions.**"
      ]
    },
    {
      "cell_type": "code",
      "metadata": {
        "id": "lRElWs_x2mGh",
        "colab_type": "code",
        "colab": {}
      },
      "source": [
        "from pydrive.auth import GoogleAuth\n",
        "from pydrive.drive import GoogleDrive\n",
        "from google.colab import auth\n",
        "from oauth2client.client import GoogleCredentials\n",
        "\n",
        "# Authenticate and create the PyDrive client\n",
        "auth.authenticate_user()\n",
        "gauth = GoogleAuth()\n",
        "gauth.credentials = GoogleCredentials.get_application_default()\n",
        "drive = GoogleDrive(gauth)"
      ],
      "execution_count": 0,
      "outputs": []
    },
    {
      "cell_type": "code",
      "metadata": {
        "id": "QHsFTGUy2n1c",
        "colab_type": "code",
        "colab": {}
      },
      "source": [
        "# id='1QtPy_HuIMSzhtYllT3-WeM3Sqg55wK_D'\n",
        "# downloaded = drive.CreateFile({'id': id})\n",
        "# downloaded.GetContentFile('MovieLens.training')\n",
        "\n",
        "# id='1ePqnsQTJRRvQcBoF2EhoPU8CU1i5byHK'\n",
        "# downloaded = drive.CreateFile({'id': id})\n",
        "# downloaded.GetContentFile('MovieLens.test')\n",
        "\n",
        "# id='1ncUBWdI5AIt3FDUJokbMqpHD2knd5ebp'\n",
        "# downloaded = drive.CreateFile({'id': id})\n",
        "# downloaded.GetContentFile('MovieLens.item')"
      ],
      "execution_count": 0,
      "outputs": []
    },
    {
      "cell_type": "markdown",
      "metadata": {
        "id": "qwtlO4_m_LbQ",
        "colab_type": "text"
      },
      "source": [
        "If you executed the cells above, you should be able to see the dataset we will use for this Colab under the \"Files\" tab on the left panel.\n",
        "\n",
        "Next, we import some of the common libraries needed for our task."
      ]
    },
    {
      "cell_type": "code",
      "metadata": {
        "id": "twk-K-jilWK7",
        "colab_type": "code",
        "colab": {}
      },
      "source": [
        "import pandas as pd\n",
        "import numpy as np\n",
        "import matplotlib.pyplot as plt\n",
        "%matplotlib inline\n",
        "\n",
        "import pyspark\n",
        "from pyspark.sql import *\n",
        "from pyspark.sql.types import *\n",
        "from pyspark.sql.functions import *\n",
        "from pyspark import SparkContext, SparkConf"
      ],
      "execution_count": 0,
      "outputs": []
    },
    {
      "cell_type": "markdown",
      "metadata": {
        "colab_type": "text",
        "id": "BtrJlMBt1Ela"
      },
      "source": [
        "Let's initialize the Spark context."
      ]
    },
    {
      "cell_type": "code",
      "metadata": {
        "colab_type": "code",
        "id": "Vm3sAVeK1EDZ",
        "colab": {}
      },
      "source": [
        "# create the session\n",
        "conf = SparkConf().set(\"spark.ui.port\", \"4050\")\n",
        "\n",
        "# create the context\n",
        "sc = pyspark.SparkContext(conf=conf)\n",
        "spark = SparkSession.builder.getOrCreate()"
      ],
      "execution_count": 0,
      "outputs": []
    },
    {
      "cell_type": "markdown",
      "metadata": {
        "colab_type": "text",
        "id": "YqovskkH1DmC"
      },
      "source": [
        "You can easily check the current version and get the link of the web interface. In the Spark UI, you can monitor the progress of your job and debug the performance bottlenecks (if your Colab is running with a **local runtime**)."
      ]
    },
    {
      "cell_type": "code",
      "metadata": {
        "colab_type": "code",
        "id": "DueQggJc1DDk",
        "outputId": "67218e1f-7941-4c74-900d-01a467e00431",
        "colab": {
          "base_uri": "https://localhost:8080/",
          "height": 216
        }
      },
      "source": [
        "spark"
      ],
      "execution_count": 5,
      "outputs": [
        {
          "output_type": "execute_result",
          "data": {
            "text/html": [
              "\n",
              "            <div>\n",
              "                <p><b>SparkSession - in-memory</b></p>\n",
              "                \n",
              "        <div>\n",
              "            <p><b>SparkContext</b></p>\n",
              "\n",
              "            <p><a href=\"http://19fca2917de9:4050\">Spark UI</a></p>\n",
              "\n",
              "            <dl>\n",
              "              <dt>Version</dt>\n",
              "                <dd><code>v2.4.5</code></dd>\n",
              "              <dt>Master</dt>\n",
              "                <dd><code>local[*]</code></dd>\n",
              "              <dt>AppName</dt>\n",
              "                <dd><code>pyspark-shell</code></dd>\n",
              "            </dl>\n",
              "        </div>\n",
              "        \n",
              "            </div>\n",
              "        "
            ],
            "text/plain": [
              "<pyspark.sql.session.SparkSession at 0x7f7cd631c128>"
            ]
          },
          "metadata": {
            "tags": []
          },
          "execution_count": 5
        }
      ]
    },
    {
      "cell_type": "markdown",
      "metadata": {
        "colab_type": "text",
        "id": "Iid7lXcG1CY8"
      },
      "source": [
        "If you are running this Colab on the Google hosted runtime, the cell below will create a *ngrok* tunnel which will allow you to still check the Spark UI."
      ]
    },
    {
      "cell_type": "code",
      "metadata": {
        "colab_type": "code",
        "id": "sDnGLVPH1BPQ",
        "colab": {}
      },
      "source": [
        "# !wget https://bin.equinox.io/c/4VmDzA7iaHb/ngrok-stable-linux-amd64.zip\n",
        "# !unzip ngrok-stable-linux-amd64.zip\n",
        "# get_ipython().system_raw('./ngrok http 4050 &')\n",
        "# !curl -s http://localhost:4040/api/tunnels | python3 -c \\\n",
        "#     \"import sys, json; print(json.load(sys.stdin)['tunnels'][0]['public_url'])\""
      ],
      "execution_count": 0,
      "outputs": []
    },
    {
      "cell_type": "code",
      "metadata": {
        "id": "T2ZqH8ovay10",
        "colab_type": "code",
        "outputId": "8f648334-7bc1-4825-fd29-83901262af0e",
        "colab": {
          "base_uri": "https://localhost:8080/",
          "height": 122
        }
      },
      "source": [
        "from google.colab import drive\n",
        "drive.mount('/content/drive')"
      ],
      "execution_count": 7,
      "outputs": [
        {
          "output_type": "stream",
          "text": [
            "Go to this URL in a browser: https://accounts.google.com/o/oauth2/auth?client_id=947318989803-6bn6qk8qdgf4n4g3pfee6491hc0brc4i.apps.googleusercontent.com&redirect_uri=urn%3aietf%3awg%3aoauth%3a2.0%3aoob&response_type=code&scope=email%20https%3a%2f%2fwww.googleapis.com%2fauth%2fdocs.test%20https%3a%2f%2fwww.googleapis.com%2fauth%2fdrive%20https%3a%2f%2fwww.googleapis.com%2fauth%2fdrive.photos.readonly%20https%3a%2f%2fwww.googleapis.com%2fauth%2fpeopleapi.readonly\n",
            "\n",
            "Enter your authorization code:\n",
            "··········\n",
            "Mounted at /content/drive\n"
          ],
          "name": "stdout"
        }
      ]
    },
    {
      "cell_type": "markdown",
      "metadata": {
        "id": "kAYRX2PMm0L6",
        "colab_type": "text"
      },
      "source": [
        "### Data Extraction"
      ]
    },
    {
      "cell_type": "code",
      "metadata": {
        "id": "rbvsKVf3Li0f",
        "colab_type": "code",
        "colab": {}
      },
      "source": [
        "# source \\t destination\n",
        "def splitLine(line):\n",
        "  vals = line.split(\"\\t\")\n",
        "  return ((vals[0], vals[1]), 1)\n"
      ],
      "execution_count": 0,
      "outputs": []
    },
    {
      "cell_type": "markdown",
      "metadata": {
        "id": "fG6Hq-IbQUVW",
        "colab_type": "text"
      },
      "source": [
        "##### Small"
      ]
    },
    {
      "cell_type": "code",
      "metadata": {
        "id": "l5-AI70IHsAg",
        "colab_type": "code",
        "colab": {
          "base_uri": "https://localhost:8080/",
          "height": 34
        },
        "outputId": "e5800939-150f-4f36-e393-2b49e7eaa4e2"
      },
      "source": [
        "edges_small = sc.textFile(\"graph-small.txt\").map(lambda r: splitLine(r))\n",
        "\n",
        "edges_small.take(1)"
      ],
      "execution_count": 25,
      "outputs": [
        {
          "output_type": "execute_result",
          "data": {
            "text/plain": [
              "[(('100', '1'), 1)]"
            ]
          },
          "metadata": {
            "tags": []
          },
          "execution_count": 25
        }
      ]
    },
    {
      "cell_type": "code",
      "metadata": {
        "id": "ErVOchdDLZ1z",
        "colab_type": "code",
        "colab": {
          "base_uri": "https://localhost:8080/",
          "height": 34
        },
        "outputId": "efc44818-3d22-4e6c-d893-6734e90bcac7"
      },
      "source": [
        "edges_small.count()"
      ],
      "execution_count": 26,
      "outputs": [
        {
          "output_type": "execute_result",
          "data": {
            "text/plain": [
              "1024"
            ]
          },
          "metadata": {
            "tags": []
          },
          "execution_count": 26
        }
      ]
    },
    {
      "cell_type": "code",
      "metadata": {
        "id": "8xwtzp98L0rw",
        "colab_type": "code",
        "colab": {
          "base_uri": "https://localhost:8080/",
          "height": 34
        },
        "outputId": "60284164-e216-4650-8438-507c59555480"
      },
      "source": [
        "unique_edges_small = edges_small.groupByKey().map(lambda r: r[0])\n",
        "\n",
        "unique_edges_small.take(1)"
      ],
      "execution_count": 27,
      "outputs": [
        {
          "output_type": "execute_result",
          "data": {
            "text/plain": [
              "[('100', '1')]"
            ]
          },
          "metadata": {
            "tags": []
          },
          "execution_count": 27
        }
      ]
    },
    {
      "cell_type": "code",
      "metadata": {
        "id": "6kKbuniCL-Bo",
        "colab_type": "code",
        "colab": {
          "base_uri": "https://localhost:8080/",
          "height": 34
        },
        "outputId": "453e0842-96dd-45ab-ce8b-b07719952b52"
      },
      "source": [
        "unique_edges_small.count()"
      ],
      "execution_count": 28,
      "outputs": [
        {
          "output_type": "execute_result",
          "data": {
            "text/plain": [
              "950"
            ]
          },
          "metadata": {
            "tags": []
          },
          "execution_count": 28
        }
      ]
    },
    {
      "cell_type": "code",
      "metadata": {
        "id": "oV_BM5iQO9-i",
        "colab_type": "code",
        "colab": {
          "base_uri": "https://localhost:8080/",
          "height": 34
        },
        "outputId": "454ed87b-7495-4805-dd21-9d35d3760de1"
      },
      "source": [
        "unique_nodes_small = unique_edges_small.flatMap(lambda r: [r[0], r[1]])\n",
        "\n",
        "unique_nodes_small_list = sorted(set(unique_nodes_small.collect()), key=lambda num: int(num))\n",
        "\n",
        "n_small = len(unique_nodes_small_list)\n",
        "n_small"
      ],
      "execution_count": 30,
      "outputs": [
        {
          "output_type": "execute_result",
          "data": {
            "text/plain": [
              "100"
            ]
          },
          "metadata": {
            "tags": []
          },
          "execution_count": 30
        }
      ]
    },
    {
      "cell_type": "markdown",
      "metadata": {
        "id": "CiY_GF3VQXiL",
        "colab_type": "text"
      },
      "source": [
        "#### Full"
      ]
    },
    {
      "cell_type": "code",
      "metadata": {
        "id": "jomSeYrxLgp9",
        "colab_type": "code",
        "colab": {
          "base_uri": "https://localhost:8080/",
          "height": 34
        },
        "outputId": "6df923ea-518a-4855-f72e-8356fb5c6e7d"
      },
      "source": [
        "edges_full = sc.textFile(\"graph-full.txt\").map(lambda r: splitLine(r))\n",
        "\n",
        "edges_full.take(1)"
      ],
      "execution_count": 31,
      "outputs": [
        {
          "output_type": "execute_result",
          "data": {
            "text/plain": [
              "[(('1', '2'), 1)]"
            ]
          },
          "metadata": {
            "tags": []
          },
          "execution_count": 31
        }
      ]
    },
    {
      "cell_type": "code",
      "metadata": {
        "id": "ykkUiFdXMCSl",
        "colab_type": "code",
        "colab": {
          "base_uri": "https://localhost:8080/",
          "height": 34
        },
        "outputId": "bd70eb0c-82b6-4b05-980a-1835ed7b1237"
      },
      "source": [
        "edges_full.count()"
      ],
      "execution_count": 115,
      "outputs": [
        {
          "output_type": "execute_result",
          "data": {
            "text/plain": [
              "8192"
            ]
          },
          "metadata": {
            "tags": []
          },
          "execution_count": 115
        }
      ]
    },
    {
      "cell_type": "code",
      "metadata": {
        "id": "GpeLlAoaLlI9",
        "colab_type": "code",
        "colab": {
          "base_uri": "https://localhost:8080/",
          "height": 34
        },
        "outputId": "d336269a-f226-4c1e-f717-5c238856e867"
      },
      "source": [
        "unique_edges_full = edges_full.groupByKey().map(lambda r: r[0])\n",
        "\n",
        "unique_edges_full.take(1)"
      ],
      "execution_count": 33,
      "outputs": [
        {
          "output_type": "execute_result",
          "data": {
            "text/plain": [
              "[('2', '3')]"
            ]
          },
          "metadata": {
            "tags": []
          },
          "execution_count": 33
        }
      ]
    },
    {
      "cell_type": "code",
      "metadata": {
        "id": "mpN5szF2MORH",
        "colab_type": "code",
        "colab": {
          "base_uri": "https://localhost:8080/",
          "height": 34
        },
        "outputId": "0765d7a0-ce8a-4fda-9ef5-7fa206310847"
      },
      "source": [
        "unique_edges_full.count()"
      ],
      "execution_count": 34,
      "outputs": [
        {
          "output_type": "execute_result",
          "data": {
            "text/plain": [
              "8161"
            ]
          },
          "metadata": {
            "tags": []
          },
          "execution_count": 34
        }
      ]
    },
    {
      "cell_type": "code",
      "metadata": {
        "id": "3CfUw8bbQEbt",
        "colab_type": "code",
        "colab": {
          "base_uri": "https://localhost:8080/",
          "height": 34
        },
        "outputId": "8ef0dee7-562b-427e-ed41-24e90390f0a6"
      },
      "source": [
        "unique_nodes_full = unique_edges_full.flatMap(lambda r: [r[0], r[1]])\n",
        "\n",
        "unique_nodes_full_list = sorted(set(unique_nodes_full.collect()), key=lambda num: int(num))\n",
        "\n",
        "n_full = len(unique_nodes_full_list)\n",
        "n_full"
      ],
      "execution_count": 35,
      "outputs": [
        {
          "output_type": "execute_result",
          "data": {
            "text/plain": [
              "1000"
            ]
          },
          "metadata": {
            "tags": []
          },
          "execution_count": 35
        }
      ]
    },
    {
      "cell_type": "code",
      "metadata": {
        "id": "muCZ-CvKomCP",
        "colab_type": "code",
        "colab": {}
      },
      "source": [
        "from collections import defaultdict"
      ],
      "execution_count": 0,
      "outputs": []
    },
    {
      "cell_type": "markdown",
      "metadata": {
        "id": "d4NVSpeBny-x",
        "colab_type": "text"
      },
      "source": [
        "##### Out Degree"
      ]
    },
    {
      "cell_type": "markdown",
      "metadata": {
        "id": "WJZnhLdFKlOa",
        "colab_type": "text"
      },
      "source": [
        "###### Small"
      ]
    },
    {
      "cell_type": "code",
      "metadata": {
        "id": "SeS6WEjPsTA_",
        "colab_type": "code",
        "colab": {
          "base_uri": "https://localhost:8080/",
          "height": 34
        },
        "outputId": "526a5e10-f61b-49cb-f2f2-1d308304feb8"
      },
      "source": [
        "out_degree_small = unique_edges_small.map(lambda n: (n[0], 1)).reduceByKey(lambda a,b: a+b).collectAsMap()\n",
        "out_degree_small['10']"
      ],
      "execution_count": 36,
      "outputs": [
        {
          "output_type": "execute_result",
          "data": {
            "text/plain": [
              "14"
            ]
          },
          "metadata": {
            "tags": []
          },
          "execution_count": 36
        }
      ]
    },
    {
      "cell_type": "code",
      "metadata": {
        "id": "eA__4-YGnyIq",
        "colab_type": "code",
        "colab": {
          "base_uri": "https://localhost:8080/",
          "height": 34
        },
        "outputId": "b69b8039-2890-41d7-ef57-32815600a60f"
      },
      "source": [
        "out_tuple_count_small = unique_edges_small.map(lambda n: ((n[0], n[1]), 1)).reduceByKey(lambda a,b: 1)\n",
        "\n",
        "out_tuple_count_small.take(1)"
      ],
      "execution_count": 37,
      "outputs": [
        {
          "output_type": "execute_result",
          "data": {
            "text/plain": [
              "[(('100', '1'), 1)]"
            ]
          },
          "metadata": {
            "tags": []
          },
          "execution_count": 37
        }
      ]
    },
    {
      "cell_type": "code",
      "metadata": {
        "id": "qxtwbiVrqfAs",
        "colab_type": "code",
        "colab": {
          "base_uri": "https://localhost:8080/",
          "height": 34
        },
        "outputId": "1161cb28-5677-4d9a-c080-8e30435c793e"
      },
      "source": [
        "out_edge_exists_small = set(out_tuple_count_small.collectAsMap().keys())\n",
        "('100', '1') in out_edge_exists_small"
      ],
      "execution_count": 39,
      "outputs": [
        {
          "output_type": "execute_result",
          "data": {
            "text/plain": [
              "True"
            ]
          },
          "metadata": {
            "tags": []
          },
          "execution_count": 39
        }
      ]
    },
    {
      "cell_type": "markdown",
      "metadata": {
        "id": "mLTAwPDnK1s5",
        "colab_type": "text"
      },
      "source": [
        "###### Full"
      ]
    },
    {
      "cell_type": "code",
      "metadata": {
        "id": "T-vs5aWksqCt",
        "colab_type": "code",
        "colab": {
          "base_uri": "https://localhost:8080/",
          "height": 34
        },
        "outputId": "29b0ad3d-0367-4f69-e31b-a8d67702f28a"
      },
      "source": [
        "out_degree_full = unique_edges_full.map(lambda n: (n[0], 1)).reduceByKey(lambda a,b: a+b).collectAsMap()\n",
        "out_degree_full['10']"
      ],
      "execution_count": 116,
      "outputs": [
        {
          "output_type": "execute_result",
          "data": {
            "text/plain": [
              "5"
            ]
          },
          "metadata": {
            "tags": []
          },
          "execution_count": 116
        }
      ]
    },
    {
      "cell_type": "code",
      "metadata": {
        "id": "9NDQIohhpOFB",
        "colab_type": "code",
        "colab": {
          "base_uri": "https://localhost:8080/",
          "height": 34
        },
        "outputId": "8f1b67b8-db9d-4165-dde5-07193b9b0f45"
      },
      "source": [
        "out_tuple_count_full = unique_edges_full.map(lambda n: ((n[0], n[1]), 1)).reduceByKey(lambda a,b: 1)\n",
        "\n",
        "out_tuple_count_full.take(1)"
      ],
      "execution_count": 41,
      "outputs": [
        {
          "output_type": "execute_result",
          "data": {
            "text/plain": [
              "[(('2', '3'), 1)]"
            ]
          },
          "metadata": {
            "tags": []
          },
          "execution_count": 41
        }
      ]
    },
    {
      "cell_type": "code",
      "metadata": {
        "id": "h49XrBJerpkO",
        "colab_type": "code",
        "colab": {
          "base_uri": "https://localhost:8080/",
          "height": 34
        },
        "outputId": "bbfa9870-39fc-4c10-d340-84b122385da3"
      },
      "source": [
        "out_edge_exists_full = set(out_tuple_count_full.collectAsMap().keys())\n",
        "('2', '3') in out_edge_exists_full"
      ],
      "execution_count": 42,
      "outputs": [
        {
          "output_type": "execute_result",
          "data": {
            "text/plain": [
              "True"
            ]
          },
          "metadata": {
            "tags": []
          },
          "execution_count": 42
        }
      ]
    },
    {
      "cell_type": "markdown",
      "metadata": {
        "id": "10ZYJxzggrOW",
        "colab_type": "text"
      },
      "source": [
        "### Stochastic Web Matrix"
      ]
    },
    {
      "cell_type": "markdown",
      "metadata": {
        "id": "jAC7hxGpLO17",
        "colab_type": "text"
      },
      "source": [
        "##### Small"
      ]
    },
    {
      "cell_type": "code",
      "metadata": {
        "id": "PE4S63JLgqe7",
        "colab_type": "code",
        "colab": {
          "base_uri": "https://localhost:8080/",
          "height": 34
        },
        "outputId": "7ab9c02f-6082-4aa9-f2fb-d463290124f9"
      },
      "source": [
        "M_small = np.zeros((n_small, n_small))\n",
        "\n",
        "for i in range(n_small):\n",
        "  for j in range(n_small):\n",
        "    key = (str(j), str(i))\n",
        "    if key in out_edge_exists_small:\n",
        "      M_small[j, i] = out_degree_small[str(i)] ** -1\n",
        "\n",
        "np.sum(M_small)    "
      ],
      "execution_count": 43,
      "outputs": [
        {
          "output_type": "execute_result",
          "data": {
            "text/plain": [
              "115.40748303983597"
            ]
          },
          "metadata": {
            "tags": []
          },
          "execution_count": 43
        }
      ]
    },
    {
      "cell_type": "code",
      "metadata": {
        "id": "e6uxR8A-aIHn",
        "colab_type": "code",
        "colab": {
          "base_uri": "https://localhost:8080/",
          "height": 34
        },
        "outputId": "c45e80ae-dd45-4bf2-e34c-6e3edf882abb"
      },
      "source": [
        "out_degree_small['1']"
      ],
      "execution_count": 52,
      "outputs": [
        {
          "output_type": "execute_result",
          "data": {
            "text/plain": [
              "14"
            ]
          },
          "metadata": {
            "tags": []
          },
          "execution_count": 52
        }
      ]
    },
    {
      "cell_type": "code",
      "metadata": {
        "id": "ijLnLuKVZGcS",
        "colab_type": "code",
        "colab": {
          "base_uri": "https://localhost:8080/",
          "height": 34
        },
        "outputId": "bf34bdc1-f87f-4d06-dad3-c1971b262f74"
      },
      "source": [
        "M_small.shape"
      ],
      "execution_count": 47,
      "outputs": [
        {
          "output_type": "execute_result",
          "data": {
            "text/plain": [
              "(100, 100)"
            ]
          },
          "metadata": {
            "tags": []
          },
          "execution_count": 47
        }
      ]
    },
    {
      "cell_type": "code",
      "metadata": {
        "id": "iDOzxRgcZqIv",
        "colab_type": "code",
        "colab": {
          "base_uri": "https://localhost:8080/",
          "height": 357
        },
        "outputId": "a6b10349-8d0b-4f47-fce4-df442d389b18"
      },
      "source": [
        "M_small[:,1]"
      ],
      "execution_count": 51,
      "outputs": [
        {
          "output_type": "execute_result",
          "data": {
            "text/plain": [
              "array([0.        , 0.        , 0.        , 0.07142857, 0.        ,\n",
              "       0.        , 0.        , 0.        , 0.        , 0.        ,\n",
              "       0.        , 0.07142857, 0.        , 0.07142857, 0.07142857,\n",
              "       0.        , 0.        , 0.07142857, 0.        , 0.        ,\n",
              "       0.        , 0.        , 0.        , 0.        , 0.07142857,\n",
              "       0.07142857, 0.        , 0.        , 0.07142857, 0.        ,\n",
              "       0.07142857, 0.07142857, 0.        , 0.07142857, 0.        ,\n",
              "       0.        , 0.        , 0.        , 0.07142857, 0.        ,\n",
              "       0.        , 0.        , 0.        , 0.        , 0.07142857,\n",
              "       0.        , 0.07142857, 0.        , 0.        , 0.        ,\n",
              "       0.07142857, 0.07142857, 0.        , 0.07142857, 0.        ,\n",
              "       0.        , 0.07142857, 0.        , 0.07142857, 0.07142857,\n",
              "       0.        , 0.        , 0.        , 0.        , 0.07142857,\n",
              "       0.07142857, 0.        , 0.        , 0.        , 0.        ,\n",
              "       0.        , 0.        , 0.        , 0.07142857, 0.        ,\n",
              "       0.        , 0.        , 0.        , 0.        , 0.07142857,\n",
              "       0.        , 0.        , 0.07142857, 0.        , 0.        ,\n",
              "       0.07142857, 0.        , 0.        , 0.07142857, 0.07142857,\n",
              "       0.        , 0.        , 0.        , 0.        , 0.07142857,\n",
              "       0.        , 0.        , 0.        , 0.07142857, 0.        ])"
            ]
          },
          "metadata": {
            "tags": []
          },
          "execution_count": 51
        }
      ]
    },
    {
      "cell_type": "markdown",
      "metadata": {
        "id": "GG1byXYaLVAI",
        "colab_type": "text"
      },
      "source": [
        "##### Full"
      ]
    },
    {
      "cell_type": "code",
      "metadata": {
        "id": "k-MoVi-WmyW_",
        "colab_type": "code",
        "colab": {
          "base_uri": "https://localhost:8080/",
          "height": 34
        },
        "outputId": "d02bd7a6-2d05-4457-e6f6-19cf014d4b12"
      },
      "source": [
        "M_full = np.zeros((n_full, n_full))\n",
        "\n",
        "for i in range(n_full):\n",
        "  for j in range(n_full):\n",
        "    key = (str(j), str(i))\n",
        "    if key in out_edge_exists_full:\n",
        "      M_full[j, i] = out_degree_full[str(i)] ** -1\n",
        "\n",
        "np.sum(M_full)"
      ],
      "execution_count": 54,
      "outputs": [
        {
          "output_type": "execute_result",
          "data": {
            "text/plain": [
              "1128.7550039528755"
            ]
          },
          "metadata": {
            "tags": []
          },
          "execution_count": 54
        }
      ]
    },
    {
      "cell_type": "code",
      "metadata": {
        "id": "RL079gEWZIyG",
        "colab_type": "code",
        "colab": {
          "base_uri": "https://localhost:8080/",
          "height": 34
        },
        "outputId": "3b5005dd-3d52-46cf-ce76-6067c83dd1c0"
      },
      "source": [
        "M_full.shape"
      ],
      "execution_count": 55,
      "outputs": [
        {
          "output_type": "execute_result",
          "data": {
            "text/plain": [
              "(1000, 1000)"
            ]
          },
          "metadata": {
            "tags": []
          },
          "execution_count": 55
        }
      ]
    },
    {
      "cell_type": "markdown",
      "metadata": {
        "id": "2w4rAEa0Q1ev",
        "colab_type": "text"
      },
      "source": [
        "###  PageRank Eigen Vector"
      ]
    },
    {
      "cell_type": "code",
      "metadata": {
        "id": "k7sLs7yPR7eB",
        "colab_type": "code",
        "colab": {}
      },
      "source": [
        "# Initialize every pages node with 1/n page rank"
      ],
      "execution_count": 0,
      "outputs": []
    },
    {
      "cell_type": "markdown",
      "metadata": {
        "id": "cLL2xaUCLaUX",
        "colab_type": "text"
      },
      "source": [
        "##### Small"
      ]
    },
    {
      "cell_type": "code",
      "metadata": {
        "id": "zCimgRhpLlCW",
        "colab_type": "code",
        "colab": {
          "base_uri": "https://localhost:8080/",
          "height": 34
        },
        "outputId": "ad2eb1ea-6a9c-4070-fffa-24a65d359e0e"
      },
      "source": [
        "page_rank_small = np.zeros(n_small) + 1/n_small\n",
        "\n",
        "np.sum(page_rank_small)"
      ],
      "execution_count": 56,
      "outputs": [
        {
          "output_type": "execute_result",
          "data": {
            "text/plain": [
              "0.9999999999999999"
            ]
          },
          "metadata": {
            "tags": []
          },
          "execution_count": 56
        }
      ]
    },
    {
      "cell_type": "code",
      "metadata": {
        "id": "SUXnFwtyfIM3",
        "colab_type": "code",
        "colab": {
          "base_uri": "https://localhost:8080/",
          "height": 34
        },
        "outputId": "858c0d37-72bf-44f0-e1c0-90196a03753d"
      },
      "source": [
        "page_rank_small[0]"
      ],
      "execution_count": 69,
      "outputs": [
        {
          "output_type": "execute_result",
          "data": {
            "text/plain": [
              "0.01"
            ]
          },
          "metadata": {
            "tags": []
          },
          "execution_count": 69
        }
      ]
    },
    {
      "cell_type": "markdown",
      "metadata": {
        "id": "MPc_Gm8-Lcx2",
        "colab_type": "text"
      },
      "source": [
        "##### Full"
      ]
    },
    {
      "cell_type": "code",
      "metadata": {
        "id": "m_hH6ozYLk6Q",
        "colab_type": "code",
        "colab": {
          "base_uri": "https://localhost:8080/",
          "height": 34
        },
        "outputId": "4529637b-234a-46df-c16b-3baac027b960"
      },
      "source": [
        "page_rank_full = np.zeros(n_full) + 1/n_full\n",
        "\n",
        "np.sum(page_rank_full)"
      ],
      "execution_count": 57,
      "outputs": [
        {
          "output_type": "execute_result",
          "data": {
            "text/plain": [
              "1.0000000000000004"
            ]
          },
          "metadata": {
            "tags": []
          },
          "execution_count": 57
        }
      ]
    },
    {
      "cell_type": "code",
      "metadata": {
        "id": "rMiMzCmWfLLX",
        "colab_type": "code",
        "colab": {
          "base_uri": "https://localhost:8080/",
          "height": 34
        },
        "outputId": "5c3a98dd-b653-4724-b6ce-f042d54ae219"
      },
      "source": [
        "page_rank_full[0]"
      ],
      "execution_count": 70,
      "outputs": [
        {
          "output_type": "execute_result",
          "data": {
            "text/plain": [
              "0.001"
            ]
          },
          "metadata": {
            "tags": []
          },
          "execution_count": 70
        }
      ]
    },
    {
      "cell_type": "markdown",
      "metadata": {
        "id": "F5UqfxK8LhOh",
        "colab_type": "text"
      },
      "source": [
        "### Teleport"
      ]
    },
    {
      "cell_type": "code",
      "metadata": {
        "id": "0odWU7QWHr6r",
        "colab_type": "code",
        "colab": {}
      },
      "source": [
        "# Teleport probability=1-beta  \n",
        "beta = 0.8\n",
        "teleport_prob = 1 - beta"
      ],
      "execution_count": 0,
      "outputs": []
    },
    {
      "cell_type": "code",
      "metadata": {
        "id": "z7vc3Cbqcmv_",
        "colab_type": "code",
        "colab": {
          "base_uri": "https://localhost:8080/",
          "height": 34
        },
        "outputId": "2a41496c-5fdc-4a1f-9c70-ae2d2bcec0a3"
      },
      "source": [
        "teleport_vector_small = np.zeros(n_small) + teleport_prob/n_small\n",
        "teleport_vector_small[0]"
      ],
      "execution_count": 117,
      "outputs": [
        {
          "output_type": "execute_result",
          "data": {
            "text/plain": [
              "0.0019999999999999996"
            ]
          },
          "metadata": {
            "tags": []
          },
          "execution_count": 117
        }
      ]
    },
    {
      "cell_type": "code",
      "metadata": {
        "id": "xAkwoltocn5T",
        "colab_type": "code",
        "colab": {
          "base_uri": "https://localhost:8080/",
          "height": 34
        },
        "outputId": "59da8a6f-de04-49c6-f958-514986676cbb"
      },
      "source": [
        "teleport_vector_full = np.zeros(n_full) + teleport_prob/n_full\n",
        "teleport_vector_full[0]"
      ],
      "execution_count": 118,
      "outputs": [
        {
          "output_type": "execute_result",
          "data": {
            "text/plain": [
              "0.00019999999999999996"
            ]
          },
          "metadata": {
            "tags": []
          },
          "execution_count": 118
        }
      ]
    },
    {
      "cell_type": "markdown",
      "metadata": {
        "id": "QhJIUHgUMijn",
        "colab_type": "text"
      },
      "source": [
        "### Power Iteration"
      ]
    },
    {
      "cell_type": "code",
      "metadata": {
        "id": "vJFa3Wtmhv1B",
        "colab_type": "code",
        "colab": {
          "base_uri": "https://localhost:8080/",
          "height": 357
        },
        "outputId": "2a49fadc-dd70-4560-9b11-98ed5b58595e"
      },
      "source": [
        "M_small[:,1]"
      ],
      "execution_count": 119,
      "outputs": [
        {
          "output_type": "execute_result",
          "data": {
            "text/plain": [
              "array([0.        , 0.        , 0.        , 0.07142857, 0.        ,\n",
              "       0.        , 0.        , 0.        , 0.        , 0.        ,\n",
              "       0.        , 0.07142857, 0.        , 0.07142857, 0.07142857,\n",
              "       0.        , 0.        , 0.07142857, 0.        , 0.        ,\n",
              "       0.        , 0.        , 0.        , 0.        , 0.07142857,\n",
              "       0.07142857, 0.        , 0.        , 0.07142857, 0.        ,\n",
              "       0.07142857, 0.07142857, 0.        , 0.07142857, 0.        ,\n",
              "       0.        , 0.        , 0.        , 0.07142857, 0.        ,\n",
              "       0.        , 0.        , 0.        , 0.        , 0.07142857,\n",
              "       0.        , 0.07142857, 0.        , 0.        , 0.        ,\n",
              "       0.07142857, 0.07142857, 0.        , 0.07142857, 0.        ,\n",
              "       0.        , 0.07142857, 0.        , 0.07142857, 0.07142857,\n",
              "       0.        , 0.        , 0.        , 0.        , 0.07142857,\n",
              "       0.07142857, 0.        , 0.        , 0.        , 0.        ,\n",
              "       0.        , 0.        , 0.        , 0.07142857, 0.        ,\n",
              "       0.        , 0.        , 0.        , 0.        , 0.07142857,\n",
              "       0.        , 0.        , 0.07142857, 0.        , 0.        ,\n",
              "       0.07142857, 0.        , 0.        , 0.07142857, 0.07142857,\n",
              "       0.        , 0.        , 0.        , 0.        , 0.07142857,\n",
              "       0.        , 0.        , 0.        , 0.07142857, 0.        ])"
            ]
          },
          "metadata": {
            "tags": []
          },
          "execution_count": 119
        }
      ]
    },
    {
      "cell_type": "code",
      "metadata": {
        "id": "jbm0ulw-Hr0r",
        "colab_type": "code",
        "colab": {}
      },
      "source": [
        "# Page Rank Update\n",
        "\n",
        "k=40 \n",
        "\n",
        "pr_small = page_rank_small.copy()\n",
        "pr_full = page_rank_full.copy()\n",
        "\n",
        "for i in range(k):\n",
        "  # print(\"teleport_vector_small=\", teleport_vector_small, \"beta=\", beta, \"dot_prod=\", np.dot(M_small, pr_small))\n",
        "  pr_small = teleport_vector_small + beta * np.dot(M_small, pr_small)\n",
        "  pr_full = teleport_vector_full + beta * np.dot(M_full, pr_full)\n",
        "  # print(\"pr_small[1]=\", pr_small[1])\n",
        "  # print(\"pr_full[1]=\", pr_full[1])\n",
        "  # print(np.linalg.norm(pr_small))"
      ],
      "execution_count": 0,
      "outputs": []
    },
    {
      "cell_type": "code",
      "metadata": {
        "id": "2sE4opzpDH-H",
        "colab_type": "code",
        "colab": {}
      },
      "source": [
        "# pr_small"
      ],
      "execution_count": 0,
      "outputs": []
    },
    {
      "cell_type": "code",
      "metadata": {
        "id": "a07AOkO3DJf5",
        "colab_type": "code",
        "colab": {
          "base_uri": "https://localhost:8080/",
          "height": 34
        },
        "outputId": "32ee3178-17ef-480e-dab6-32976abcd943"
      },
      "source": [
        "max_pr_small_idx = np.argmax(pr_small) \n",
        "max_pr_small_idx"
      ],
      "execution_count": 120,
      "outputs": [
        {
          "output_type": "execute_result",
          "data": {
            "text/plain": [
              "59"
            ]
          },
          "metadata": {
            "tags": []
          },
          "execution_count": 120
        }
      ]
    },
    {
      "cell_type": "code",
      "metadata": {
        "id": "KbZYEAjkeZNS",
        "colab_type": "code",
        "colab": {
          "base_uri": "https://localhost:8080/",
          "height": 102
        },
        "outputId": "b494d0c0-578b-4efa-c13a-5f6b2d302581"
      },
      "source": [
        "highest_pr_idx = pr_small.argsort()[-5:][::-1]\n",
        "for idx in highest_pr_idx:\n",
        "  print(\"pr_index=\", idx, \"pr_value=\", pr_small[idx])"
      ],
      "execution_count": 121,
      "outputs": [
        {
          "output_type": "stream",
          "text": [
            "pr_index= 59 pr_value= 0.01749885039395662\n",
            "pr_index= 45 pr_value= 0.01688346361709461\n",
            "pr_index= 80 pr_value= 0.016272086733217724\n",
            "pr_index= 83 pr_value= 0.016125973293865548\n",
            "pr_index= 1 pr_value= 0.015455644197358502\n"
          ],
          "name": "stdout"
        }
      ]
    },
    {
      "cell_type": "code",
      "metadata": {
        "id": "3n8z01PqjVpR",
        "colab_type": "code",
        "colab": {
          "base_uri": "https://localhost:8080/",
          "height": 102
        },
        "outputId": "342d9bdc-a97d-4a39-b5cf-0e5f9b0c977b"
      },
      "source": [
        "lowest_pr_idx = pr_small.argsort()[::-1][-5:]\n",
        "for idx in lowest_pr_idx:\n",
        "  print(\"pr_index=\", idx, \"pr_value=\", pr_small[idx])"
      ],
      "execution_count": 97,
      "outputs": [
        {
          "output_type": "stream",
          "text": [
            "pr_index= 63 pr_value= 0.005864686514667147\n",
            "pr_index= 15 pr_value= 0.0057998068882654675\n",
            "pr_index= 5 pr_value= 0.005602408426993661\n",
            "pr_index= 52 pr_value= 0.005056751932507394\n",
            "pr_index= 0 pr_value= 0.0019999999999999996\n"
          ],
          "name": "stdout"
        }
      ]
    },
    {
      "cell_type": "code",
      "metadata": {
        "id": "-qxJmCTsCT_G",
        "colab_type": "code",
        "colab": {}
      },
      "source": [
        "# pr_full"
      ],
      "execution_count": 0,
      "outputs": []
    },
    {
      "cell_type": "code",
      "metadata": {
        "id": "54aUIlyZHrxE",
        "colab_type": "code",
        "colab": {
          "base_uri": "https://localhost:8080/",
          "height": 34
        },
        "outputId": "d776a243-f70d-4920-b59c-034f36f1a5a5"
      },
      "source": [
        "max_pr_full_idx = np.argmax(pr_full) \n",
        "max_pr_full_idx"
      ],
      "execution_count": 64,
      "outputs": [
        {
          "output_type": "execute_result",
          "data": {
            "text/plain": [
              "840"
            ]
          },
          "metadata": {
            "tags": []
          },
          "execution_count": 64
        }
      ]
    },
    {
      "cell_type": "code",
      "metadata": {
        "id": "jfs6n1WsCB_c",
        "colab_type": "code",
        "colab": {
          "base_uri": "https://localhost:8080/",
          "height": 34
        },
        "outputId": "bb4e4fde-5134-40fe-a92d-72d02a1e3294"
      },
      "source": [
        "pr_full[max_pr_full_idx]"
      ],
      "execution_count": 132,
      "outputs": [
        {
          "output_type": "execute_result",
          "data": {
            "text/plain": [
              "0.002310102017249554"
            ]
          },
          "metadata": {
            "tags": []
          },
          "execution_count": 132
        }
      ]
    },
    {
      "cell_type": "code",
      "metadata": {
        "id": "gVqaVihSBlKp",
        "colab_type": "code",
        "colab": {
          "base_uri": "https://localhost:8080/",
          "height": 102
        },
        "outputId": "2aa337a4-f343-496e-fd76-03a6f0fc3220"
      },
      "source": [
        "highest_pr_idx = pr_full.argsort()[-5:][::-1]\n",
        "for idx in highest_pr_idx:\n",
        "  print(\"pr_index=\", idx, \"pr_value=\", pr_full[idx])"
      ],
      "execution_count": 99,
      "outputs": [
        {
          "output_type": "stream",
          "text": [
            "pr_index= 840 pr_value= 0.002310102017249554\n",
            "pr_index= 155 pr_value= 0.0022004576615845635\n",
            "pr_index= 234 pr_value= 0.00203887545379242\n",
            "pr_index= 137 pr_value= 0.002017045601032364\n",
            "pr_index= 666 pr_value= 0.0019940983192039846\n"
          ],
          "name": "stdout"
        }
      ]
    },
    {
      "cell_type": "code",
      "metadata": {
        "id": "aeemwstVfYx2",
        "colab_type": "code",
        "colab": {
          "base_uri": "https://localhost:8080/",
          "height": 102
        },
        "outputId": "61095d97-2993-48ca-9de5-3500170e6174"
      },
      "source": [
        "lowest_pr_idx = pr_full.argsort()[::-1][-5:]\n",
        "for idx in lowest_pr_idx:\n",
        "  print(\"pr_index=\", idx, \"pr_value=\", pr_full[idx])"
      ],
      "execution_count": 100,
      "outputs": [
        {
          "output_type": "stream",
          "text": [
            "pr_index= 229 pr_value= 0.0005087693573589022\n",
            "pr_index= 769 pr_value= 0.0005065716245767926\n",
            "pr_index= 262 pr_value= 0.00041564802743984013\n",
            "pr_index= 218 pr_value= 0.00041420359222972764\n",
            "pr_index= 0 pr_value= 0.00019999999999999996\n"
          ],
          "name": "stdout"
        }
      ]
    },
    {
      "cell_type": "markdown",
      "metadata": {
        "id": "mQ9nBfV7NkKQ",
        "colab_type": "text"
      },
      "source": [
        ""
      ]
    },
    {
      "cell_type": "markdown",
      "metadata": {
        "id": "cOZwZCWiNlgE",
        "colab_type": "text"
      },
      "source": [
        "# Implementing HITS"
      ]
    },
    {
      "cell_type": "markdown",
      "metadata": {
        "id": "qtOX8qcIOZfd",
        "colab_type": "text"
      },
      "source": [
        "### Link Matrix"
      ]
    },
    {
      "cell_type": "code",
      "metadata": {
        "id": "9SS8RGHnOYfj",
        "colab_type": "code",
        "colab": {
          "base_uri": "https://localhost:8080/",
          "height": 34
        },
        "outputId": "71962387-51d8-4f18-d2c5-b88f539883e1"
      },
      "source": [
        "L_small = np.zeros((n_small, n_small))\n",
        "\n",
        "for i in range(n_small):\n",
        "  for j in range(n_small):\n",
        "    key = (str(j), str(i))\n",
        "    if key in out_edge_exists_small:\n",
        "      L_small[j, i] = 1\n",
        "\n",
        "np.sum(L_small)   \n",
        "\n",
        "# Matrix to RDD\n",
        "# L_small = sc.parallelize(L_small)"
      ],
      "execution_count": 184,
      "outputs": [
        {
          "output_type": "execute_result",
          "data": {
            "text/plain": [
              "924.0"
            ]
          },
          "metadata": {
            "tags": []
          },
          "execution_count": 184
        }
      ]
    },
    {
      "cell_type": "code",
      "metadata": {
        "id": "mmZCHDMuOsfy",
        "colab_type": "code",
        "colab": {
          "base_uri": "https://localhost:8080/",
          "height": 34
        },
        "outputId": "318874f4-8eba-4be4-92d4-a006141d4bbf"
      },
      "source": [
        "L_full = np.zeros((n_full, n_full))\n",
        "\n",
        "for i in range(n_full):\n",
        "  for j in range(n_full):\n",
        "    key = (str(j), str(i))\n",
        "    if key in out_edge_exists_full:\n",
        "      L_full[j, i] = 1\n",
        "\n",
        "np.sum(L_full)\n",
        "\n",
        "# Matrix to RDD\n",
        "# L_full = sc.parallelize(L_full)"
      ],
      "execution_count": 185,
      "outputs": [
        {
          "output_type": "execute_result",
          "data": {
            "text/plain": [
              "8142.0"
            ]
          },
          "metadata": {
            "tags": []
          },
          "execution_count": 185
        }
      ]
    },
    {
      "cell_type": "markdown",
      "metadata": {
        "id": "_uyIuDv_PVh5",
        "colab_type": "text"
      },
      "source": [
        "### Hubbiness and Authority Vector"
      ]
    },
    {
      "cell_type": "code",
      "metadata": {
        "id": "154X7tWFRgS6",
        "colab_type": "code",
        "colab": {}
      },
      "source": [
        "lambda_factor = 1\n",
        "mu_factor = 1"
      ],
      "execution_count": 0,
      "outputs": []
    },
    {
      "cell_type": "markdown",
      "metadata": {
        "id": "BKur2SoKQ0Zl",
        "colab_type": "text"
      },
      "source": [
        "##### Small"
      ]
    },
    {
      "cell_type": "code",
      "metadata": {
        "id": "l4ye_9pSPQSO",
        "colab_type": "code",
        "colab": {
          "base_uri": "https://localhost:8080/",
          "height": 34
        },
        "outputId": "e891e142-89df-486a-af20-19a321d8a797"
      },
      "source": [
        "hubbiness_small = np.zeros(n_small) + 1\n",
        "\n",
        "for i in range(40):\n",
        "  # auth\n",
        "  authority_small = np.dot(L_small.T, hubbiness_small)\n",
        "  max_auth_small_idx = np.argmax(authority_small)\n",
        "  authority_small /= authority_small[max_auth_small_idx]\n",
        "  # hub\n",
        "  hubbiness_small = np.dot(L_small, authority_small)\n",
        "  max_hubb_small_idx = np.argmax(hubbiness_small)\n",
        "  hubbiness_small /= hubbiness_small[max_hubb_small_idx]\n",
        "                                    \n",
        "np.sum(authority_small)\n",
        "\n"
      ],
      "execution_count": 206,
      "outputs": [
        {
          "output_type": "execute_result",
          "data": {
            "text/plain": [
              "22.305924840153427"
            ]
          },
          "metadata": {
            "tags": []
          },
          "execution_count": 206
        }
      ]
    },
    {
      "cell_type": "code",
      "metadata": {
        "id": "yZO99SfuW8t1",
        "colab_type": "code",
        "colab": {
          "base_uri": "https://localhost:8080/",
          "height": 34
        },
        "outputId": "968cda4e-dd58-4b53-bc04-890a89ef463b"
      },
      "source": [
        "max_hubb_small_idx = np.argmax(hubbiness_small)\n",
        "max_hubb_small_idx"
      ],
      "execution_count": 207,
      "outputs": [
        {
          "output_type": "execute_result",
          "data": {
            "text/plain": [
              "59"
            ]
          },
          "metadata": {
            "tags": []
          },
          "execution_count": 207
        }
      ]
    },
    {
      "cell_type": "code",
      "metadata": {
        "id": "zcHZSrUgXATk",
        "colab_type": "code",
        "colab": {
          "base_uri": "https://localhost:8080/",
          "height": 34
        },
        "outputId": "dd1e6b6e-7680-4178-97b6-265845deed4e"
      },
      "source": [
        "hubbiness_small[max_hubb_small_idx]"
      ],
      "execution_count": 208,
      "outputs": [
        {
          "output_type": "execute_result",
          "data": {
            "text/plain": [
              "1.0"
            ]
          },
          "metadata": {
            "tags": []
          },
          "execution_count": 208
        }
      ]
    },
    {
      "cell_type": "code",
      "metadata": {
        "id": "Sw9_wNrvYDEx",
        "colab_type": "code",
        "colab": {
          "base_uri": "https://localhost:8080/",
          "height": 102
        },
        "outputId": "b9deb96d-3aff-44cf-e69b-27a1e4fb0db3"
      },
      "source": [
        "# highest hubbiness\n",
        "hubb_small_idx = hubbiness_small.argsort()[-5:][::-1]\n",
        "\n",
        "for idx in hubb_small_idx:\n",
        "  print(\"hubbinessNode=\", idx, \"hubbinessValue=\", hubbiness_small[idx])"
      ],
      "execution_count": 229,
      "outputs": [
        {
          "output_type": "stream",
          "text": [
            "hubbinessNode= 59 hubbinessValue= 1.0\n",
            "hubbinessNode= 39 hubbinessValue= 0.9771360012807863\n",
            "hubbinessNode= 11 hubbinessValue= 0.9639809836688735\n",
            "hubbinessNode= 79 hubbinessValue= 0.9519097006973478\n",
            "hubbinessNode= 38 hubbinessValue= 0.9301632834840544\n"
          ],
          "name": "stdout"
        }
      ]
    },
    {
      "cell_type": "code",
      "metadata": {
        "id": "1w9FFItuYn9S",
        "colab_type": "code",
        "colab": {
          "base_uri": "https://localhost:8080/",
          "height": 102
        },
        "outputId": "87911f35-72a7-4352-9d58-1e999a3ab9ca"
      },
      "source": [
        "# lowest hubbiness\n",
        "hubb_small_idx = hubbiness_small.argsort()[::-1][-5:]\n",
        "\n",
        "for idx in hubb_small_idx:\n",
        "  print(\"hubbinessNode=\", idx, \"hubbinessValue=\", hubbiness_small[idx])"
      ],
      "execution_count": 236,
      "outputs": [
        {
          "output_type": "stream",
          "text": [
            "hubbinessNode= 95 hubbinessValue= 0.2335579159381473\n",
            "hubbinessNode= 15 hubbinessValue= 0.214627402772886\n",
            "hubbinessNode= 9 hubbinessValue= 0.21398772416868803\n",
            "hubbinessNode= 35 hubbinessValue= 0.2126461041397039\n",
            "hubbinessNode= 0 hubbinessValue= 0.0\n"
          ],
          "name": "stdout"
        }
      ]
    },
    {
      "cell_type": "code",
      "metadata": {
        "id": "ChKo5Ryiar2F",
        "colab_type": "code",
        "colab": {
          "base_uri": "https://localhost:8080/",
          "height": 102
        },
        "outputId": "977e4dd1-b012-4965-8bdb-284b6e37cc92"
      },
      "source": [
        "# highest authority\n",
        "auth_small_idx = authority_small.argsort()[-5:][::-1]\n",
        "\n",
        "for idx in auth_small_idx:\n",
        "  print(\"authorityNode=\", idx, \"authorityValue=\", authority_small[idx])"
      ],
      "execution_count": 232,
      "outputs": [
        {
          "output_type": "stream",
          "text": [
            "authorityNode= 66 authorityValue= 1.0\n",
            "authorityNode= 40 authorityValue= 0.9416553120606718\n",
            "authorityNode= 27 authorityValue= 0.9105944749808419\n",
            "authorityNode= 53 authorityValue= 0.8842590255372046\n",
            "authorityNode= 1 authorityValue= 0.7838455296960767\n"
          ],
          "name": "stdout"
        }
      ]
    },
    {
      "cell_type": "code",
      "metadata": {
        "id": "GLEfyAn2auFq",
        "colab_type": "code",
        "colab": {
          "base_uri": "https://localhost:8080/",
          "height": 102
        },
        "outputId": "f30569b4-8ab2-42e7-c51f-f3bcd9122616"
      },
      "source": [
        "# lowest authority\n",
        "auth_small_idx = authority_small.argsort()[::-1][-5:]\n",
        "\n",
        "for idx in auth_small_idx:\n",
        "  print(\"authorityNode=\", idx, \"authorityValue=\", authority_small[idx])"
      ],
      "execution_count": 237,
      "outputs": [
        {
          "output_type": "stream",
          "text": [
            "authorityNode= 24 authorityValue= 0.06332243994003275\n",
            "authorityNode= 33 authorityValue= 0.0532651655517216\n",
            "authorityNode= 54 authorityValue= 0.048917626249540776\n",
            "authorityNode= 71 authorityValue= 0.044910039876904125\n",
            "authorityNode= 0 authorityValue= 0.0\n"
          ],
          "name": "stdout"
        }
      ]
    },
    {
      "cell_type": "markdown",
      "metadata": {
        "id": "KwaYA3XEQ36_",
        "colab_type": "text"
      },
      "source": [
        "##### Full"
      ]
    },
    {
      "cell_type": "code",
      "metadata": {
        "id": "WCMR3fcBQ11U",
        "colab_type": "code",
        "colab": {
          "base_uri": "https://localhost:8080/",
          "height": 34
        },
        "outputId": "88513505-a68c-4b15-c83d-d6be9c7d804d"
      },
      "source": [
        "hubbiness_full = np.zeros(n_full) + 1\n",
        "\n",
        "\n",
        "for i in range(40):\n",
        "  # auth\n",
        "  authority_full = np.dot(L_full.T, hubbiness_full)\n",
        "  max_auth_full_idx = np.argmax(authority_full)\n",
        "  authority_full /= authority_full[max_auth_full_idx]\n",
        "  # hub\n",
        "  hubbiness_full = np.dot(L_full, authority_full)\n",
        "  max_hubb_full_idx = np.argmax(hubbiness_full)\n",
        "  hubbiness_full /= hubbiness_full[max_hubb_full_idx]\n",
        "                                    \n",
        "np.sum(authority_full)\n",
        "\n"
      ],
      "execution_count": 210,
      "outputs": [
        {
          "output_type": "execute_result",
          "data": {
            "text/plain": [
              "403.28990881704624"
            ]
          },
          "metadata": {
            "tags": []
          },
          "execution_count": 210
        }
      ]
    },
    {
      "cell_type": "code",
      "metadata": {
        "id": "iDAH0YkSVfyp",
        "colab_type": "code",
        "colab": {
          "base_uri": "https://localhost:8080/",
          "height": 34
        },
        "outputId": "f3c53737-704a-40a3-943d-c75d98b97869"
      },
      "source": [
        "max_hubb_full_idx = np.argmax(hubbiness_full)\n",
        "max_hubb_full_idx"
      ],
      "execution_count": 211,
      "outputs": [
        {
          "output_type": "execute_result",
          "data": {
            "text/plain": [
              "840"
            ]
          },
          "metadata": {
            "tags": []
          },
          "execution_count": 211
        }
      ]
    },
    {
      "cell_type": "code",
      "metadata": {
        "id": "TD0qesbaXh-W",
        "colab_type": "code",
        "colab": {
          "base_uri": "https://localhost:8080/",
          "height": 34
        },
        "outputId": "fe5bc70a-ec28-42a4-8761-bba99235d1b6"
      },
      "source": [
        "hubbiness_full[max_hubb_full_idx]"
      ],
      "execution_count": 212,
      "outputs": [
        {
          "output_type": "execute_result",
          "data": {
            "text/plain": [
              "1.0"
            ]
          },
          "metadata": {
            "tags": []
          },
          "execution_count": 212
        }
      ]
    },
    {
      "cell_type": "code",
      "metadata": {
        "id": "AEp6LbbQXn57",
        "colab_type": "code",
        "colab": {
          "base_uri": "https://localhost:8080/",
          "height": 102
        },
        "outputId": "58ef4a81-7bca-45c6-91f4-64f8c8c342e6"
      },
      "source": [
        "# highest hubbiness\n",
        "hubb_full_idx = hubbiness_full.argsort()[-5:][::-1]\n",
        "\n",
        "for idx in hubb_full_idx:\n",
        "  print(\"hubbinessNode=\", idx, \"hubbinessValue=\", hubbiness_full[idx])"
      ],
      "execution_count": 226,
      "outputs": [
        {
          "output_type": "stream",
          "text": [
            "hubbinessNode= 840 hubbinessValue= 1.0\n",
            "hubbinessNode= 155 hubbinessValue= 0.9406193908295618\n",
            "hubbinessNode= 234 hubbinessValue= 0.9008896222258238\n",
            "hubbinessNode= 389 hubbinessValue= 0.8643225118529235\n",
            "hubbinessNode= 472 hubbinessValue= 0.8538041364002846\n"
          ],
          "name": "stdout"
        }
      ]
    },
    {
      "cell_type": "code",
      "metadata": {
        "id": "1RRIfYsFX7Zt",
        "colab_type": "code",
        "colab": {
          "base_uri": "https://localhost:8080/",
          "height": 102
        },
        "outputId": "ff20ad57-d665-4018-8650-fcccce6289bb"
      },
      "source": [
        "# lowest hubbiness\n",
        "hubb_full_idx = hubbiness_full.argsort()[::-1][-5:]\n",
        "\n",
        "for idx in hubb_full_idx:\n",
        "  print(\"hubbinessNode=\", idx, \"hubbinessValue=\", hubbiness_full[idx])"
      ],
      "execution_count": 239,
      "outputs": [
        {
          "output_type": "stream",
          "text": [
            "hubbinessNode= 539 hubbinessValue= 0.0664127083864826\n",
            "hubbinessNode= 141 hubbinessValue= 0.06459793639398076\n",
            "hubbinessNode= 835 hubbinessValue= 0.057533765430976824\n",
            "hubbinessNode= 23 hubbinessValue= 0.042278926335992326\n",
            "hubbinessNode= 0 hubbinessValue= 0.0\n"
          ],
          "name": "stdout"
        }
      ]
    },
    {
      "cell_type": "code",
      "metadata": {
        "id": "mw0WfGMfaO_Q",
        "colab_type": "code",
        "colab": {
          "base_uri": "https://localhost:8080/",
          "height": 102
        },
        "outputId": "916c61f4-96a9-47a7-e573-95a4257fa8a8"
      },
      "source": [
        "# highest authority\n",
        "auth_full_idx = authority_full.argsort()[-5:][::-1]\n",
        "\n",
        "for idx in auth_full_idx:\n",
        "  print(\"authorityNode=\", idx, \"authorityValue=\", authority_full[idx])"
      ],
      "execution_count": 227,
      "outputs": [
        {
          "output_type": "stream",
          "text": [
            "authorityNode= 893 authorityValue= 1.0\n",
            "authorityNode= 16 authorityValue= 0.95555173239123\n",
            "authorityNode= 799 authorityValue= 0.9461836076135997\n",
            "authorityNode= 146 authorityValue= 0.9214448520496178\n",
            "authorityNode= 473 authorityValue= 0.8961985568969516\n"
          ],
          "name": "stdout"
        }
      ]
    },
    {
      "cell_type": "code",
      "metadata": {
        "id": "JUuBl6j0aWYV",
        "colab_type": "code",
        "colab": {
          "base_uri": "https://localhost:8080/",
          "height": 102
        },
        "outputId": "2103cda1-f913-4e52-9755-9d212e84ded3"
      },
      "source": [
        "# lowest authority\n",
        "auth_full_idx = authority_full.argsort()[::-1][-5:]\n",
        "\n",
        "for idx in auth_full_idx:\n",
        "  print(\"authorityNode=\", idx, \"authorityValue=\", authority_full[idx])"
      ],
      "execution_count": 238,
      "outputs": [
        {
          "output_type": "stream",
          "text": [
            "authorityNode= 24 authorityValue= 0.08160344203379763\n",
            "authorityNode= 462 authorityValue= 0.07527833036615698\n",
            "authorityNode= 135 authorityValue= 0.06632518878601466\n",
            "authorityNode= 19 authorityValue= 0.05615124630576268\n",
            "authorityNode= 0 authorityValue= 0.0\n"
          ],
          "name": "stdout"
        }
      ]
    },
    {
      "cell_type": "code",
      "metadata": {
        "id": "ib5WNcOjaloY",
        "colab_type": "code",
        "colab": {}
      },
      "source": [
        ""
      ],
      "execution_count": 0,
      "outputs": []
    }
  ]
}